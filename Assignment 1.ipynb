{
 "cells": [
  {
   "cell_type": "markdown",
   "id": "50731866",
   "metadata": {},
   "source": [
    "1. In the below elements which of them are values or an expression? eg:- values can be\n",
    "integer or string and expressions will be mathematical operators.\n",
    "\n",
    "*  = Expression \n",
    "\n",
    "'hello' = Value\n",
    "\n",
    "-87.8 = Value\n",
    "\n",
    "-  = Expression \n",
    "\n",
    "/  = Expression \n",
    "\n",
    "+  = Expression\n",
    "\n",
    "6  = Value\n"
   ]
  },
  {
   "cell_type": "markdown",
   "id": "2e653bc0",
   "metadata": {},
   "source": [
    "2. What is the difference between string and variable?\n",
    "\n",
    "-> String are write with quotes and this is a Data Types. Where Variable is nothing but a Location of that Particular Data.\n",
    "In variable we Store the Different Data Types."
   ]
  },
  {
   "cell_type": "markdown",
   "id": "cc971df7",
   "metadata": {},
   "source": [
    "3. Describe three different data types.\n",
    "\n",
    "-> String = String is Data Type is Write in Quotes. ('', \"\", ''' ''')\n",
    "-> Integer = Integer is known as Numeric data in this we can't add float data.\n",
    "-> Float = Float is known as decimal Data for example (15.20)\n",
    "-> Boolean = In this we can only TRUE or FALSE this is known as Boolean Data.\n"
   ]
  },
  {
   "cell_type": "markdown",
   "id": "29521174",
   "metadata": {},
   "source": [
    "4. What is an expression made up of? What do all expressions do?\n",
    "\n",
    "-> Expression is made up of +, - , *, / and this are used to perform the numeric mathematics."
   ]
  },
  {
   "cell_type": "markdown",
   "id": "f961760b",
   "metadata": {},
   "source": [
    "5. This assignment statements, like spam = 10. What is the difference between an expression and a statement?\n",
    "\n",
    "-> Expression always return the combination of two values. and Statement is only used for storing the Values."
   ]
  },
  {
   "cell_type": "markdown",
   "id": "748641c3",
   "metadata": {},
   "source": [
    "6. After running the following code, what does the variable bacon contain?\n",
    "bacon = 22\n",
    "bacon + 1\n",
    "\n",
    "-> Here bacon contain 23. Because we added bacon =bacon + 1. and bacon is 22 before this after this it will be 23"
   ]
  },
  {
   "cell_type": "markdown",
   "id": "d7a3b36b",
   "metadata": {},
   "source": [
    "7. What should the values of the following two terms be?\n",
    "'spam' + 'spamspam' = spamspamspam\n",
    "\n",
    "'spam' * 3 = 'spamspamspam'"
   ]
  },
  {
   "cell_type": "markdown",
   "id": "4f9f98ff",
   "metadata": {},
   "source": [
    "8. Why is eggs a valid variable name while 100 is invalid?\n",
    "\n",
    "-> We cannot start a variable name with Integere so this is the reason \"eggs\" are valid and 100 are Invalid variable."
   ]
  },
  {
   "cell_type": "markdown",
   "id": "1649dc09",
   "metadata": {},
   "source": [
    "9. What three functions can be used to get the integer, floating-point number, or string version of a value?\n",
    "\n",
    "-> int(), float(), str()"
   ]
  },
  {
   "cell_type": "markdown",
   "id": "14036388",
   "metadata": {},
   "source": [
    "10. Why does this expression cause an error? How can you fix it?\n",
    "'I have eaten ' + 99 + ' burritos.'\n",
    "\n",
    "-> yes this expresion can cause an Error because we can't concatinate integer with String.\n",
    "\n",
    "Solution -> Convert integer to String = 'I have eaten ' + \"99\" + ' burritos."
   ]
  }
 ],
 "metadata": {
  "kernelspec": {
   "display_name": "Python 3 (ipykernel)",
   "language": "python",
   "name": "python3"
  },
  "language_info": {
   "codemirror_mode": {
    "name": "ipython",
    "version": 3
   },
   "file_extension": ".py",
   "mimetype": "text/x-python",
   "name": "python",
   "nbconvert_exporter": "python",
   "pygments_lexer": "ipython3",
   "version": "3.9.7"
  }
 },
 "nbformat": 4,
 "nbformat_minor": 5
}
